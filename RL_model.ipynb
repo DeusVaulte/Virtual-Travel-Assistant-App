{
 "cells": [
  {
   "cell_type": "code",
   "execution_count": 1,
   "metadata": {},
   "outputs": [
    {
     "name": "stdout",
     "output_type": "stream",
     "text": [
      "Suggested Destination: London, UK\n",
      "Suggested Destination: Phuket, Thailand\n",
      "Suggested Destination: Phuket, Thailand\n"
     ]
    },
    {
     "ename": "ValueError",
     "evalue": "could not convert string to float: ''",
     "output_type": "error",
     "traceback": [
      "\u001b[1;31m---------------------------------------------------------------------------\u001b[0m",
      "\u001b[1;31mValueError\u001b[0m                                Traceback (most recent call last)",
      "Cell \u001b[1;32mIn[1], line 35\u001b[0m\n\u001b[0;32m     32\u001b[0m \u001b[38;5;66;03m# Example interaction loop\u001b[39;00m\n\u001b[0;32m     33\u001b[0m \u001b[38;5;28;01mfor\u001b[39;00m _ \u001b[38;5;129;01min\u001b[39;00m \u001b[38;5;28mrange\u001b[39m(\u001b[38;5;241m5\u001b[39m):  \u001b[38;5;66;03m# Simulate 5 interactions\u001b[39;00m\n\u001b[0;32m     34\u001b[0m     \u001b[38;5;66;03m# User input for costs\u001b[39;00m\n\u001b[1;32m---> 35\u001b[0m     accommodation_budget \u001b[38;5;241m=\u001b[39m \u001b[38;5;28;43mfloat\u001b[39;49m\u001b[43m(\u001b[49m\u001b[38;5;28;43minput\u001b[39;49m\u001b[43m(\u001b[49m\u001b[38;5;124;43m\"\u001b[39;49m\u001b[38;5;124;43mEnter your accommodation budget: \u001b[39;49m\u001b[38;5;124;43m\"\u001b[39;49m\u001b[43m)\u001b[49m\u001b[43m)\u001b[49m\n\u001b[0;32m     36\u001b[0m     transportation_budget \u001b[38;5;241m=\u001b[39m \u001b[38;5;28mfloat\u001b[39m(\u001b[38;5;28minput\u001b[39m(\u001b[38;5;124m\"\u001b[39m\u001b[38;5;124mEnter your transportation budget: \u001b[39m\u001b[38;5;124m\"\u001b[39m))\n\u001b[0;32m     38\u001b[0m     \u001b[38;5;66;03m# Suggest destination\u001b[39;00m\n",
      "\u001b[1;31mValueError\u001b[0m: could not convert string to float: ''"
     ]
    }
   ],
   "source": [
    "import pandas as pd\n",
    "import numpy as np\n",
    "import random\n",
    "\n",
    "class DestinationRecommender:\n",
    "    def __init__(self, destinations, learning_rate=0.1, discount_factor=0.9, exploration_rate=0.2):\n",
    "        self.destinations = destinations\n",
    "        self.q_table = {dest: 0 for dest in destinations}\n",
    "        self.lr = learning_rate\n",
    "        self.gamma = discount_factor\n",
    "        self.epsilon = exploration_rate\n",
    "\n",
    "    def suggest_destination(self, accommodation_budget, transportation_budget):\n",
    "        if random.random() < self.epsilon:\n",
    "            # Exploration: choose a random destination\n",
    "            return random.choice(self.destinations)\n",
    "        else:\n",
    "            # Exploitation: choose the best-known destination\n",
    "            return max(self.q_table, key=self.q_table.get)\n",
    "\n",
    "    def update_q_table(self, destination, reward):\n",
    "        current_q = self.q_table[destination]\n",
    "        self.q_table[destination] = current_q + self.lr * (reward + self.gamma * max(self.q_table.values()) - current_q)\n",
    "\n",
    "# Load dataset from CSV\n",
    "csv_file = 'Travel details dataset.csv' \n",
    "df = pd.read_csv(csv_file)\n",
    "\n",
    "# Initialize recommender\n",
    "recommender = DestinationRecommender(df['Destination'].tolist())\n",
    "\n",
    "# Example interaction loop\n",
    "for _ in range(5):  # Simulate 5 interactions\n",
    "    # User input for costs\n",
    "    accommodation_budget = float(input(\"Enter your accommodation budget: \"))\n",
    "    transportation_budget = float(input(\"Enter your transportation budget: \"))\n",
    "    \n",
    "    # Suggest destination\n",
    "    suggestion = recommender.suggest_destination(accommodation_budget, transportation_budget)\n",
    "    print(f\"Suggested Destination: {suggestion}\")\n",
    "    \n",
    "    # Simulate user feedback\n",
    "    feedback = input(\"Do you like this suggestion? (yes/no): \")\n",
    "    reward = 1 if feedback.lower() == 'yes' else -1\n",
    "    \n",
    "    # Update Q-table\n",
    "    recommender.update_q_table(suggestion, reward)\n",
    "\n",
    "print(\"\\nFinal Q-Table:\")\n",
    "for dest, q_value in recommender.q_table.items():\n",
    "    print(f\"{dest}: {q_value}\")\n"
   ]
  }
 ],
 "metadata": {
  "kernelspec": {
   "display_name": "Python 3",
   "language": "python",
   "name": "python3"
  },
  "language_info": {
   "codemirror_mode": {
    "name": "ipython",
    "version": 3
   },
   "file_extension": ".py",
   "mimetype": "text/x-python",
   "name": "python",
   "nbconvert_exporter": "python",
   "pygments_lexer": "ipython3",
   "version": "3.13.2"
  }
 },
 "nbformat": 4,
 "nbformat_minor": 2
}
